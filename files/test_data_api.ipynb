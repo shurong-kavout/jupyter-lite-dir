{
 "cells": [
  {
   "cell_type": "code",
   "execution_count": 1,
   "metadata": {},
   "outputs": [],
   "source": [
    "import pandas # package 内的依赖，需要在外部导入\n",
    "import micropip\n",
    "await micropip.install('http://127.0.0.1:8081/packages/data_api-0.1-py3-none-any.whl')"
   ]
  },
  {
   "cell_type": "code",
   "execution_count": 2,
   "metadata": {},
   "outputs": [
    {
     "name": "stderr",
     "output_type": "stream",
     "text": [
      "/lib/python3.8/site-packages/pandas/compat/__init__.py:117: UserWarning: Could not import the lzma module. Your installed Python is incomplete. Attempting to use lzma compression will result in a RuntimeError.\n",
      "  warnings.warn(msg)\n"
     ]
    }
   ],
   "source": [
    "from data_api import DataAPI\n",
    "api = DataAPI('CN', 'a8494857b72fa891e27fa95dc5a99448')"
   ]
  },
  {
   "cell_type": "code",
   "execution_count": 4,
   "metadata": {},
   "outputs": [
    {
     "data": {
      "text/plain": [
       "['2021-08-04']"
      ]
     },
     "execution_count": 4,
     "metadata": {},
     "output_type": "execute_result"
    }
   ],
   "source": [
    "await api.get_latest_trade_dates()"
   ]
  },
  {
   "cell_type": "code",
   "execution_count": 5,
   "metadata": {},
   "outputs": [
    {
     "data": {
      "text/html": [
       "<div>\n",
       "<style scoped>\n",
       "    .dataframe tbody tr th:only-of-type {\n",
       "        vertical-align: middle;\n",
       "    }\n",
       "\n",
       "    .dataframe tbody tr th {\n",
       "        vertical-align: top;\n",
       "    }\n",
       "\n",
       "    .dataframe thead th {\n",
       "        text-align: right;\n",
       "    }\n",
       "</style>\n",
       "<table border=\"1\" class=\"dataframe\">\n",
       "  <thead>\n",
       "    <tr style=\"text-align: right;\">\n",
       "      <th></th>\n",
       "      <th>symbol</th>\n",
       "      <th>trade_date</th>\n",
       "      <th>open</th>\n",
       "      <th>high</th>\n",
       "      <th>low</th>\n",
       "      <th>close</th>\n",
       "      <th>volume</th>\n",
       "      <th>adj_open</th>\n",
       "      <th>adj_high</th>\n",
       "      <th>adj_low</th>\n",
       "      <th>adj_close</th>\n",
       "      <th>adj_volume</th>\n",
       "    </tr>\n",
       "  </thead>\n",
       "  <tbody>\n",
       "    <tr>\n",
       "      <th>0</th>\n",
       "      <td>000001</td>\n",
       "      <td>2021-08-02</td>\n",
       "      <td>17.64</td>\n",
       "      <td>18.14</td>\n",
       "      <td>17.18</td>\n",
       "      <td>18.01</td>\n",
       "      <td>115992263</td>\n",
       "      <td>17.64</td>\n",
       "      <td>18.14</td>\n",
       "      <td>17.18</td>\n",
       "      <td>18.01</td>\n",
       "      <td>115992263</td>\n",
       "    </tr>\n",
       "    <tr>\n",
       "      <th>1</th>\n",
       "      <td>000001</td>\n",
       "      <td>2021-08-03</td>\n",
       "      <td>17.99</td>\n",
       "      <td>18.15</td>\n",
       "      <td>17.66</td>\n",
       "      <td>17.89</td>\n",
       "      <td>89694857</td>\n",
       "      <td>17.99</td>\n",
       "      <td>18.15</td>\n",
       "      <td>17.66</td>\n",
       "      <td>17.89</td>\n",
       "      <td>89694857</td>\n",
       "    </tr>\n",
       "    <tr>\n",
       "      <th>2</th>\n",
       "      <td>000001</td>\n",
       "      <td>2021-08-04</td>\n",
       "      <td>18.04</td>\n",
       "      <td>18.07</td>\n",
       "      <td>17.60</td>\n",
       "      <td>17.81</td>\n",
       "      <td>72962008</td>\n",
       "      <td>18.04</td>\n",
       "      <td>18.07</td>\n",
       "      <td>17.60</td>\n",
       "      <td>17.81</td>\n",
       "      <td>72962008</td>\n",
       "    </tr>\n",
       "  </tbody>\n",
       "</table>\n",
       "</div>"
      ],
      "text/plain": [
       "   symbol  trade_date   open   high    low  close     volume  adj_open  \\\n",
       "0  000001  2021-08-02  17.64  18.14  17.18  18.01  115992263     17.64   \n",
       "1  000001  2021-08-03  17.99  18.15  17.66  17.89   89694857     17.99   \n",
       "2  000001  2021-08-04  18.04  18.07  17.60  17.81   72962008     18.04   \n",
       "\n",
       "   adj_high  adj_low  adj_close  adj_volume  \n",
       "0     18.14    17.18      18.01   115992263  \n",
       "1     18.15    17.66      17.89    89694857  \n",
       "2     18.07    17.60      17.81    72962008  "
      ]
     },
     "execution_count": 5,
     "metadata": {},
     "output_type": "execute_result"
    }
   ],
   "source": [
    "await api.get_quote_by_symbol(symbol='000001', start_date='2021-08-01')"
   ]
  },
  {
   "cell_type": "code",
   "execution_count": null,
   "metadata": {},
   "outputs": [],
   "source": []
  }
 ],
 "metadata": {
  "kernelspec": {
   "display_name": "Python 3",
   "language": "python",
   "name": "python3"
  },
  "language_info": {
   "codemirror_mode": {
    "name": "ipython",
    "version": 3
   },
   "file_extension": ".py",
   "mimetype": "text/x-python",
   "name": "python",
   "nbconvert_exporter": "python",
   "pygments_lexer": "ipython3",
   "version": "3.9.2"
  }
 },
 "nbformat": 4,
 "nbformat_minor": 4
}
