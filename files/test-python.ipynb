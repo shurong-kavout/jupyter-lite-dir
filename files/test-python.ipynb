{
 "cells": [
  {
   "cell_type": "code",
   "execution_count": 8,
   "id": "3cd05b0f-d5a9-4fff-b9ad-cb5aa47f0b60",
   "metadata": {},
   "outputs": [],
   "source": [
    "import platform"
   ]
  },
  {
   "cell_type": "code",
   "execution_count": 9,
   "id": "42bee4dc-947b-44a7-b646-2c3655f60a37",
   "metadata": {},
   "outputs": [
    {
     "name": "stdout",
     "output_type": "stream",
     "text": [
      "操作系统及版本信息:macOS-10.16-x86_64-i386-64bit\n",
      "获取系统版本号:Darwin Kernel Version 20.6.0: Wed Jun 23 00:26:31 PDT 2021; root:xnu-7195.141.2~5/RELEASE_X86_64\n",
      "获取系统名称:Darwin\n",
      "系统位数:('64bit', '')\n",
      "计算机类型:x86_64\n",
      "计算机名称:kavoutdeMacBook-Pro.local\n",
      "处理器类型:i386\n",
      "计算机相关信息:uname_result(system='Darwin', node='kavoutdeMacBook-Pro.local', release='20.6.0', version='Darwin Kernel Version 20.6.0: Wed Jun 23 00:26:31 PDT 2021; root:xnu-7195.141.2~5/RELEASE_X86_64', machine='x86_64')\n"
     ]
    }
   ],
   "source": [
    "def showinfo(tip, info):\n",
    "    print(\"{}:{}\".format(tip,info))\n",
    "\n",
    "\n",
    "showinfo(\"操作系统及版本信息\",platform.platform())\n",
    "showinfo('获取系统版本号',platform.version())\n",
    "showinfo('获取系统名称', platform.system())\n",
    "showinfo('系统位数', platform.architecture())\n",
    "showinfo('计算机类型', platform.machine())\n",
    "showinfo('计算机名称', platform.node())\n",
    "showinfo('处理器类型', platform.processor())\n",
    "showinfo('计算机相关信息', platform.uname())"
   ]
  },
  {
   "cell_type": "code",
   "execution_count": null,
   "id": "8e0b5db0-588a-43d9-aa51-91d4a0b375e4",
   "metadata": {},
   "outputs": [],
   "source": []
  }
 ],
 "metadata": {
  "kernelspec": {
   "display_name": "Python 3",
   "language": "python",
   "name": "python3"
  },
  "language_info": {
   "codemirror_mode": {
    "name": "ipython",
    "version": 3
   },
   "file_extension": ".py",
   "mimetype": "text/x-python",
   "name": "python",
   "nbconvert_exporter": "python",
   "pygments_lexer": "ipython3",
   "version": "3.9.2"
  }
 },
 "nbformat": 4,
 "nbformat_minor": 5
}
