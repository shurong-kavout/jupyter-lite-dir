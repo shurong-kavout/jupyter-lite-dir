{
 "cells": [
  {
   "cell_type": "code",
   "execution_count": null,
   "id": "af926412-77ac-4ce5-84e4-05a99901eef0",
   "metadata": {},
   "outputs": [],
   "source": [
    "# Can only be executed in the jupyterlite\n",
    "import micropip\n",
    "\n",
    "# Work around https://github.com/pyodide/pyodide/issues/1614 which is now fixed in pyodide\n",
    "await micropip.install('Jinja2')\n",
    "micropip.PACKAGE_MANAGER.builtin_packages['jinja2'] = micropip.PACKAGE_MANAGER.builtin_packages['Jinja2']\n",
    "# Last version of jsonschema before it added the pyrsistent dependency (native code, no wheel)\n",
    "await micropip.install(\"https://files.pythonhosted.org/packages/77/de/47e35a97b2b05c2fadbec67d44cfcdcd09b8086951b331d82de90d2912da/jsonschema-2.6.0-py2.py3-none-any.whl\")\n",
    "\n",
    "await micropip.install(\"altair\")\n",
    "await micropip.install(\"vega_datasets\")"
   ]
  },
  {
   "cell_type": "code",
   "execution_count": null,
   "id": "eb85a471-b6e4-454b-955e-f82e05c28372",
   "metadata": {},
   "outputs": [],
   "source": [
    "import altair as alt\n",
    "\n",
    "# load a simple dataset as a pandas DataFrame\n",
    "from vega_datasets import data\n",
    "cars = data.cars()\n",
    "\n",
    "alt.Chart(cars).mark_point().encode(\n",
    "    x='Horsepower',\n",
    "    y='Miles_per_Gallon',\n",
    "    color='Origin',\n",
    ")"
   ]
  }
 ],
 "metadata": {
  "kernelspec": {
   "display_name": "Python 3",
   "language": "python",
   "name": "python3"
  },
  "language_info": {
   "codemirror_mode": {
    "name": "ipython",
    "version": 3
   },
   "file_extension": ".py",
   "mimetype": "text/x-python",
   "name": "python",
   "nbconvert_exporter": "python",
   "pygments_lexer": "ipython3",
   "version": "3.9.2"
  }
 },
 "nbformat": 4,
 "nbformat_minor": 5
}
