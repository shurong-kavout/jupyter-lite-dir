{
 "cells": [
  {
   "cell_type": "code",
   "execution_count": 2,
   "id": "d1d24b34-7970-447d-bf1f-30c47daf4763",
   "metadata": {},
   "outputs": [],
   "source": [
    "import pandas as pd\n",
    "import numpy as np"
   ]
  },
  {
   "cell_type": "code",
   "execution_count": null,
   "id": "57d38ab5-33d5-4442-a57f-84ff921ae575",
   "metadata": {},
   "outputs": [],
   "source": [
    "URL = 'http://127.0.0.1:8080/files/huge/instances_train2017.json'\n",
    "file_reader = pd.read_json(URL, lines=True, chunksize=1000)\n",
    "\n",
    "for chunk in file_reader:\n",
    "    print(chunk)"
   ]
  },
  {
   "cell_type": "code",
   "execution_count": null,
   "id": "a99fbda2-d1b2-4663-aa80-445ef1d52855",
   "metadata": {},
   "outputs": [],
   "source": []
  },
  {
   "cell_type": "code",
   "execution_count": null,
   "id": "44e95b67-f5d5-46d7-9042-2aaac9dc5e76",
   "metadata": {},
   "outputs": [],
   "source": [
    "pd.__version__"
   ]
  },
  {
   "cell_type": "code",
   "execution_count": null,
   "id": "2e86f7a2-aab8-49f1-8e04-226cd3085d25",
   "metadata": {},
   "outputs": [],
   "source": [
    "# pip install --upgrade pandas"
   ]
  },
  {
   "cell_type": "code",
   "execution_count": null,
   "id": "4d328042-82cf-4b3b-a4c1-ffecb069ef74",
   "metadata": {},
   "outputs": [],
   "source": [
    "# pip install lxml"
   ]
  },
  {
   "cell_type": "code",
   "execution_count": 5,
   "id": "3d722edb-7417-4447-91db-5789cf3af014",
   "metadata": {},
   "outputs": [],
   "source": [
    "# require pandas >= 1.3.0, lxml\n",
    "\n",
    "# URL = 'http://127.0.0.1:8080/files/huge/MigLog.xml'\n",
    "# pd.read_xml(URL)"
   ]
  },
  {
   "cell_type": "code",
   "execution_count": null,
   "id": "9850e392-85cd-4ece-b847-0ea89b65e181",
   "metadata": {},
   "outputs": [],
   "source": []
  },
  {
   "cell_type": "code",
   "execution_count": null,
   "id": "ef415adf-5fca-4cff-b0ee-d8e085cbb770",
   "metadata": {},
   "outputs": [],
   "source": []
  },
  {
   "cell_type": "code",
   "execution_count": null,
   "id": "0e29cb7d-f8b6-4919-8f87-a656f8a2798b",
   "metadata": {},
   "outputs": [],
   "source": []
  }
 ],
 "metadata": {
  "kernelspec": {
   "display_name": "Python 3",
   "language": "python",
   "name": "python3"
  },
  "language_info": {
   "codemirror_mode": {
    "name": "ipython",
    "version": 3
   },
   "file_extension": ".py",
   "mimetype": "text/x-python",
   "name": "python",
   "nbconvert_exporter": "python",
   "pygments_lexer": "ipython3",
   "version": "3.9.2"
  }
 },
 "nbformat": 4,
 "nbformat_minor": 5
}
