{
 "cells": [
  {
   "cell_type": "code",
   "execution_count": 4,
   "metadata": {},
   "outputs": [],
   "source": [
    "from IPython.core.interactiveshell import InteractiveShell\n",
    "InteractiveShell.ast_node_interactivity = \"all\""
   ]
  },
  {
   "cell_type": "code",
   "execution_count": 5,
   "metadata": {},
   "outputs": [],
   "source": [
    "import numpy as np\n",
    "import pandas as pd"
   ]
  },
  {
   "cell_type": "code",
   "execution_count": 4,
   "metadata": {},
   "outputs": [
    {
     "data": {
      "text/plain": [
       "array([[10.        , 14.68421053, 19.36842105, 24.05263158],\n",
       "       [28.73684211, 33.42105263, 38.10526316, 42.78947368],\n",
       "       [47.47368421, 52.15789474, 56.84210526, 61.52631579],\n",
       "       [66.21052632, 70.89473684, 75.57894737, 80.26315789],\n",
       "       [84.94736842, 89.63157895, 94.31578947, 99.        ]])"
      ]
     },
     "execution_count": 4,
     "metadata": {},
     "output_type": "execute_result"
    }
   ],
   "source": [
    "array = np.random.random((2, 6))\n",
    "array = np.empty((9, 9))\n",
    "array = np.arange(1, 10, 2)\n",
    "array = np.arange(81).reshape((9, 9))\n",
    "array = np.linspace(10, 99, 20).reshape((5, 4))\n",
    "\n",
    "array"
   ]
  }
 ],
 "metadata": {
  "kernelspec": {
   "display_name": "Python 3",
   "language": "python",
   "name": "python3"
  },
  "language_info": {
   "codemirror_mode": {
    "name": "ipython",
    "version": 3
   },
   "file_extension": ".py",
   "mimetype": "text/x-python",
   "name": "python",
   "nbconvert_exporter": "python",
   "pygments_lexer": "ipython3",
   "version": "3.9.2"
  }
 },
 "nbformat": 4,
 "nbformat_minor": 4
}
