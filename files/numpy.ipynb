{
 "cells": [
  {
   "cell_type": "code",
   "execution_count": 4,
   "metadata": {},
   "outputs": [],
   "source": [
    "from IPython.core.interactiveshell import InteractiveShell\n",
    "InteractiveShell.ast_node_interactivity = \"all\""
   ]
  },
  {
   "cell_type": "code",
   "execution_count": 5,
   "metadata": {},
   "outputs": [],
   "source": [
    "import numpy as np\n",
    "import pandas as pd"
   ]
  },
  {
   "cell_type": "code",
   "execution_count": 4,
   "metadata": {},
   "outputs": [
    {
     "data": {
      "text/plain": [
       "array([[10.        , 14.68421053, 19.36842105, 24.05263158],\n",
       "       [28.73684211, 33.42105263, 38.10526316, 42.78947368],\n",
       "       [47.47368421, 52.15789474, 56.84210526, 61.52631579],\n",
       "       [66.21052632, 70.89473684, 75.57894737, 80.26315789],\n",
       "       [84.94736842, 89.63157895, 94.31578947, 99.        ]])"
      ]
     },
     "execution_count": 4,
     "metadata": {},
     "output_type": "execute_result"
    }
   ],
   "source": [
    "array = np.random.random((2, 6))\n",
    "array = np.empty((9, 9))\n",
    "array = np.arange(1, 10, 2)\n",
    "array = np.arange(81).reshape((9, 9))\n",
    "array = np.linspace(10, 99, 20).reshape((5, 4))\n",
    "\n",
    "array"
   ]
  },
  {
   "cell_type": "code",
   "execution_count": 45,
   "metadata": {},
   "outputs": [],
   "source": [
    "# np.sum(array)\n",
    "# np.min(array)\n",
    "# np.max(array)\n",
    "# np.sum(array, axis=0)\n",
    "# np.min(array, axis=0)\n",
    "# np.max(array, axis=1)\n",
    "# np.argmin(array)\n",
    "# np.argmax(array)\n",
    "# np.median(array)\n",
    "# np.cumsum(array)\n",
    "# np.diff(array)\n",
    "# np.nonzero(array)\n",
    "# np.sort(array)\n",
    "# np.transpose(array)\n",
    "# np.clip(array, 30, 70)"
   ]
  },
  {
   "cell_type": "code",
   "execution_count": 46,
   "metadata": {},
   "outputs": [],
   "source": [
    "# array[0][3]\n",
    "# array[4, :]\n",
    "# array[:, 3]\n",
    "# array[0, 2:4]\n",
    "\n",
    "# for row in array:\n",
    "#     print(row)\n",
    "\n",
    "# for col in array.T:\n",
    "#     print(col)\n",
    "\n",
    "# for item in array.flat:\n",
    "#     print(item)"
   ]
  },
  {
   "cell_type": "code",
   "execution_count": 55,
   "metadata": {},
   "outputs": [
    {
     "data": {
      "text/plain": [
       "[array([[10.        , 14.68421053, 19.36842105, 24.05263158]]),\n",
       " array([[28.73684211, 33.42105263, 38.10526316, 42.78947368]]),\n",
       " array([[47.47368421, 52.15789474, 56.84210526, 61.52631579]]),\n",
       " array([[66.21052632, 70.89473684, 75.57894737, 80.26315789]]),\n",
       " array([[84.94736842, 89.63157895, 94.31578947, 99.        ]])]"
      ]
     },
     "execution_count": 55,
     "metadata": {},
     "output_type": "execute_result"
    }
   ],
   "source": [
    "np.split(array, 5, axis=0)\n",
    "np.split(array, 2, axis=1)\n",
    "\n",
    "np.array_split(array, 5, axis=1)\n",
    "\n",
    "np.vsplit(array, 5)\n",
    "# np.hsplit(array, 4)\n",
    "\n",
    "# A1 = array\n",
    "# A2 = array.copy()\n",
    "\n",
    "# A1[0] = 100\n",
    "# A2[1] = 200\n"
   ]
  },
  {
   "cell_type": "code",
   "execution_count": 58,
   "metadata": {},
   "outputs": [
    {
     "data": {
      "text/plain": [
       "array([[0],\n",
       "       [1],\n",
       "       [2],\n",
       "       [3],\n",
       "       [4],\n",
       "       [5],\n",
       "       [6],\n",
       "       [7],\n",
       "       [8],\n",
       "       [9]])"
      ]
     },
     "execution_count": 58,
     "metadata": {},
     "output_type": "execute_result"
    }
   ],
   "source": [
    "A = np.arange(0, 10)\n",
    "B = np.arange(-9, 1)\n",
    "\n",
    "C = np.vstack((A, B))\n",
    "C.shape\n",
    "C\n",
    "\n",
    "D = np.hstack((A, B))\n",
    "# D.shape\n",
    "D\n",
    "\n",
    "A[np.newaxis, :]\n",
    "A[:, np.newaxis]\n",
    "\n",
    "# E = np.concatenate((A, B), axis=0)\n",
    "\n",
    "# E"
   ]
  },
  {
   "cell_type": "code",
   "execution_count": 63,
   "metadata": {},
   "outputs": [
    {
     "data": {
      "text/plain": [
       "array([57.  , 72.34, 18.95, 98.52,  6.78, 28.98, 17.4 , 48.27,  3.65,\n",
       "       26.31])"
      ]
     },
     "execution_count": 63,
     "metadata": {},
     "output_type": "execute_result"
    }
   ],
   "source": [
    "import random\n",
    "\n",
    "arr = [random.random() * 100 for i in range(10)]\n",
    "nparr = np.array(arr)\n",
    "nparr = np.round(nparr, 2)\n",
    "\n",
    "nparr"
   ]
  },
  {
   "cell_type": "code",
   "execution_count": 5,
   "metadata": {},
   "outputs": [],
   "source": [
    "float_formatter = lambda x: \"%.4f\" % x\n",
    "np.set_printoptions(formatter={'float_kind':float_formatter})"
   ]
  },
  {
   "cell_type": "code",
   "execution_count": 9,
   "metadata": {},
   "outputs": [],
   "source": [
    "stocks = pd.read_csv('./FTSE_CHINA_A50_INDEX.csv', dtype={'symbol': str})\n",
    "# stocks.symbol.astype(str)\n",
    "\n",
    "narr = np.random.uniform(-50, 100, size=(50, 2)) / 100\n",
    "narr = np.round(narr, 4)"
   ]
  },
  {
   "cell_type": "code",
   "execution_count": 10,
   "metadata": {},
   "outputs": [],
   "source": [
    "data_list = [\n",
    "    ['MSFT', 'Microsoft Corp', 135.4202, -0.235794, 0.029663, 'Information Technology'],\n",
    "    ['AAPL', 'Apple Inc.', 242.2136, -0.182374, 0.044825, 'Information Technology'],\n",
    "    ['AMZN', 'Amazon.com Inc', 1689.1552, -0.126587, 0.092764, 'Consumer Discretionary'],\n",
    "    ['FB', 'Facebook Inc A', 146.0148, -0.377137,  0.031919, 'Communication Services'],\n",
    "    ['GOOG', 'Alphabet Inc A', 1084.3379, -0.274243, 0.048383, 'Communication Services'],\n",
    "]\n",
    "\n",
    "df = pd.DataFrame(data_list, columns=['Symbol', 'Company', 'Price', '1Wk Return', '1Mon Return', 'Sector'])\n",
    "# df[['Price', '1Wk Return', '1Mon Return']] = df[['Price', '1Wk Return', '1Mon Return']].astype(float)\n",
    "df['Price'] = df['Price'].round(decimals=2)\n",
    "df['1Wk Return'] = df['1Wk Return'].apply(lambda x: '%.2f' % (x * 100) + '%')\n",
    "df['1Mon Return'] = df['1Mon Return'].apply(lambda x: '{0:.2f}%'.format (x * 100))\n",
    "df = pd.concat([df] * 10)\n",
    "df = df.sample(frac=1).reset_index(drop=True)"
   ]
  },
  {
   "cell_type": "code",
   "execution_count": 11,
   "metadata": {},
   "outputs": [
    {
     "data": {
      "text/plain": [
       "array([[ 0,  1,  2,  3,  4,  5],\n",
       "       [ 6,  7,  8,  9, 10, 11],\n",
       "       [12, 13, 14, 15, 16, 17],\n",
       "       [18, 19, 20, 21, 22, 23]])"
      ]
     },
     "execution_count": 11,
     "metadata": {},
     "output_type": "execute_result"
    }
   ],
   "source": [
    "t = np.arange(24).reshape(4,6)\n",
    "t"
   ]
  },
  {
   "cell_type": "code",
   "execution_count": 12,
   "metadata": {},
   "outputs": [
    {
     "data": {
      "text/plain": [
       "array([[ 0,  0,  0,  0,  0,  0],\n",
       "       [ 0,  0,  0,  0, 10, 11],\n",
       "       [12, 13, 14, 15, 16, 17],\n",
       "       [18, 19, 20, 20, 20, 20]])"
      ]
     },
     "execution_count": 12,
     "metadata": {},
     "output_type": "execute_result"
    }
   ],
   "source": [
    "np.where(t < 10, 0, np.where(t > 20, 20, t))"
   ]
  },
  {
   "cell_type": "code",
   "execution_count": 13,
   "metadata": {},
   "outputs": [
    {
     "data": {
      "text/plain": [
       "array([[10, 10, 10, 10, 10, 10],\n",
       "       [10, 10, 10, 10, 10, 11],\n",
       "       [12, 13, 14, 15, 16, 17],\n",
       "       [18, 19, 20, 20, 20, 20]])"
      ]
     },
     "execution_count": 13,
     "metadata": {},
     "output_type": "execute_result"
    }
   ],
   "source": [
    "t.clip(10, 20)"
   ]
  },
  {
   "cell_type": "code",
   "execution_count": 14,
   "metadata": {},
   "outputs": [
    {
     "data": {
      "text/plain": [
       "array([[1.0000, 0.0000, 0.0000, 0.0000, 0.0000, 0.0000],\n",
       "       [0.0000, 1.0000, 0.0000, 0.0000, 0.0000, 0.0000],\n",
       "       [0.0000, 0.0000, 1.0000, 0.0000, 0.0000, 0.0000],\n",
       "       [0.0000, 0.0000, 0.0000, 1.0000, 0.0000, 0.0000],\n",
       "       [0.0000, 0.0000, 0.0000, 0.0000, 1.0000, 0.0000],\n",
       "       [0.0000, 0.0000, 0.0000, 0.0000, 0.0000, 1.0000]])"
      ]
     },
     "execution_count": 14,
     "metadata": {},
     "output_type": "execute_result"
    }
   ],
   "source": [
    "np.eye(6)"
   ]
  },
  {
   "cell_type": "code",
   "execution_count": 17,
   "metadata": {},
   "outputs": [
    {
     "data": {
      "text/plain": [
       "array([[0.7583, 0.8822, 0.1834, 0.9409],\n",
       "       [0.4668, 0.2773, 0.1999, 0.4890],\n",
       "       [0.7058, 0.1908, 0.4258, 0.5113]])"
      ]
     },
     "execution_count": 17,
     "metadata": {},
     "output_type": "execute_result"
    },
    {
     "data": {
      "text/plain": [
       "array([[-0.9600, -2.3256, -0.8559, 2.9237],\n",
       "       [-0.1951, -0.0524, 1.4366, -0.4864],\n",
       "       [0.0027, 0.0196, -1.3084, -1.8952]])"
      ]
     },
     "execution_count": 17,
     "metadata": {},
     "output_type": "execute_result"
    },
    {
     "data": {
      "text/plain": [
       "array([[ 2,  1,  3,  5],\n",
       "       [ 3, 11,  3, 11],\n",
       "       [ 5,  3, 10,  9]])"
      ]
     },
     "execution_count": 17,
     "metadata": {},
     "output_type": "execute_result"
    },
    {
     "data": {
      "text/plain": [
       "array([[7.6670, 5.2327, 8.2011, 3.8400],\n",
       "       [6.9729, 9.2396, 6.8205, 2.8742],\n",
       "       [11.2337, 9.8622, 3.5659, 9.6736]])"
      ]
     },
     "execution_count": 17,
     "metadata": {},
     "output_type": "execute_result"
    },
    {
     "data": {
      "text/plain": [
       "array([[8.9861, -21.9537, 4.3910, 5.5887],\n",
       "       [-12.5938, 1.1384, -2.2640, 1.9940],\n",
       "       [-19.0286, 7.0247, -0.4820, 20.0994]])"
      ]
     },
     "execution_count": 17,
     "metadata": {},
     "output_type": "execute_result"
    }
   ],
   "source": [
    "np.random.rand(3, 4)\n",
    "np.random.randn(3, 4)\n",
    "np.random.randint(1, 12, (3, 4))\n",
    "np.random.uniform(1, 12, (3, 4))\n",
    "np.random.normal(1, 12, (3, 4))"
   ]
  },
  {
   "cell_type": "code",
   "execution_count": 18,
   "metadata": {},
   "outputs": [
    {
     "data": {
      "text/plain": [
       "'Results of the 2016 Referendum'"
      ]
     },
     "execution_count": 18,
     "metadata": {},
     "output_type": "execute_result"
    }
   ],
   "source": [
    "year = 2016\n",
    "event = 'Referendum'\n",
    "p = f'Results of the {year} {event}'\n",
    "p"
   ]
  },
  {
   "cell_type": "code",
   "execution_count": null,
   "metadata": {},
   "outputs": [],
   "source": []
  },
  {
   "cell_type": "code",
   "execution_count": 6,
   "metadata": {},
   "outputs": [],
   "source": [
    "score = np.array([\n",
    "    [0, 1, 2],\n",
    "    [3, 4, 5],\n",
    "    [6, 7, 8]\n",
    "])"
   ]
  },
  {
   "cell_type": "code",
   "execution_count": 8,
   "metadata": {},
   "outputs": [
    {
     "data": {
      "text/plain": [
       "numpy.ndarray"
      ]
     },
     "execution_count": 8,
     "metadata": {},
     "output_type": "execute_result"
    }
   ],
   "source": [
    "type(score)"
   ]
  },
  {
   "cell_type": "code",
   "execution_count": null,
   "metadata": {},
   "outputs": [],
   "source": []
  },
  {
   "cell_type": "code",
   "execution_count": 47,
   "metadata": {},
   "outputs": [],
   "source": [
    "import pdfkit"
   ]
  },
  {
   "cell_type": "code",
   "execution_count": null,
   "metadata": {},
   "outputs": [],
   "source": []
  },
  {
   "cell_type": "code",
   "execution_count": null,
   "metadata": {},
   "outputs": [],
   "source": []
  }
 ],
 "metadata": {
  "kernelspec": {
   "display_name": "Python 3",
   "language": "python",
   "name": "python3"
  },
  "language_info": {
   "codemirror_mode": {
    "name": "ipython",
    "version": 3
   },
   "file_extension": ".py",
   "mimetype": "text/x-python",
   "name": "python",
   "nbconvert_exporter": "python",
   "pygments_lexer": "ipython3",
   "version": "3.7.6"
  }
 },
 "nbformat": 4,
 "nbformat_minor": 4
}
