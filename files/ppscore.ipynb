{
 "cells": [
  {
   "cell_type": "code",
   "execution_count": 1,
   "id": "8b9481ed-fa64-48ba-882a-e44820f82fbd",
   "metadata": {},
   "outputs": [],
   "source": [
    "import pandas as pd\n",
    "import numpy as np\n",
    "import ppscore as pps"
   ]
  },
  {
   "cell_type": "code",
   "execution_count": 2,
   "id": "21a65687-7cf2-4a2e-a08d-48d16f4407e1",
   "metadata": {},
   "outputs": [],
   "source": [
    "df = pd.DataFrame()\n",
    "df[\"x\"] = np.random.uniform(-2, 2, 1_000_000)\n",
    "df[\"error\"] = np.random.uniform(-0.5, 0.5, 1_000_000)\n",
    "df[\"y\"] = df[\"x\"] * df[\"x\"] + df[\"error\"]"
   ]
  },
  {
   "cell_type": "code",
   "execution_count": 3,
   "id": "d66f47ed-b103-413b-b39a-f23f4ad64980",
   "metadata": {},
   "outputs": [
    {
     "data": {
      "text/plain": [
       "{'x': 'x',\n",
       " 'y': 'y',\n",
       " 'ppscore': 0.676697984175278,\n",
       " 'case': 'regression',\n",
       " 'is_valid_score': True,\n",
       " 'metric': 'mean absolute error',\n",
       " 'baseline_score': 1.0228643389535825,\n",
       " 'model_score': 0.3306941026989149,\n",
       " 'model': DecisionTreeRegressor()}"
      ]
     },
     "execution_count": 3,
     "metadata": {},
     "output_type": "execute_result"
    }
   ],
   "source": [
    "pps.score(df, \"x\", \"y\")"
   ]
  },
  {
   "cell_type": "code",
   "execution_count": 4,
   "id": "e4dd6ca8-0182-471b-aee8-bc48578c88a4",
   "metadata": {},
   "outputs": [
    {
     "data": {
      "text/html": [
       "<div>\n",
       "<style scoped>\n",
       "    .dataframe tbody tr th:only-of-type {\n",
       "        vertical-align: middle;\n",
       "    }\n",
       "\n",
       "    .dataframe tbody tr th {\n",
       "        vertical-align: top;\n",
       "    }\n",
       "\n",
       "    .dataframe thead th {\n",
       "        text-align: right;\n",
       "    }\n",
       "</style>\n",
       "<table border=\"1\" class=\"dataframe\">\n",
       "  <thead>\n",
       "    <tr style=\"text-align: right;\">\n",
       "      <th></th>\n",
       "      <th>x</th>\n",
       "      <th>y</th>\n",
       "      <th>ppscore</th>\n",
       "      <th>case</th>\n",
       "      <th>is_valid_score</th>\n",
       "      <th>metric</th>\n",
       "      <th>baseline_score</th>\n",
       "      <th>model_score</th>\n",
       "      <th>model</th>\n",
       "    </tr>\n",
       "  </thead>\n",
       "  <tbody>\n",
       "    <tr>\n",
       "      <th>0</th>\n",
       "      <td>x</td>\n",
       "      <td>y</td>\n",
       "      <td>0.676698</td>\n",
       "      <td>regression</td>\n",
       "      <td>True</td>\n",
       "      <td>mean absolute error</td>\n",
       "      <td>1.022864</td>\n",
       "      <td>0.330694</td>\n",
       "      <td>DecisionTreeRegressor()</td>\n",
       "    </tr>\n",
       "    <tr>\n",
       "      <th>1</th>\n",
       "      <td>error</td>\n",
       "      <td>y</td>\n",
       "      <td>0.000000</td>\n",
       "      <td>regression</td>\n",
       "      <td>True</td>\n",
       "      <td>mean absolute error</td>\n",
       "      <td>1.022864</td>\n",
       "      <td>1.350357</td>\n",
       "      <td>DecisionTreeRegressor()</td>\n",
       "    </tr>\n",
       "  </tbody>\n",
       "</table>\n",
       "</div>"
      ],
      "text/plain": [
       "       x  y   ppscore        case  is_valid_score               metric  \\\n",
       "0      x  y  0.676698  regression            True  mean absolute error   \n",
       "1  error  y  0.000000  regression            True  mean absolute error   \n",
       "\n",
       "   baseline_score  model_score                    model  \n",
       "0        1.022864     0.330694  DecisionTreeRegressor()  \n",
       "1        1.022864     1.350357  DecisionTreeRegressor()  "
      ]
     },
     "execution_count": 4,
     "metadata": {},
     "output_type": "execute_result"
    }
   ],
   "source": [
    "pps.predictors(df, \"y\")"
   ]
  },
  {
   "cell_type": "code",
   "execution_count": 5,
   "id": "6490adb8-5173-4959-b851-54d2810bdfc7",
   "metadata": {},
   "outputs": [
    {
     "data": {
      "text/html": [
       "<div>\n",
       "<style scoped>\n",
       "    .dataframe tbody tr th:only-of-type {\n",
       "        vertical-align: middle;\n",
       "    }\n",
       "\n",
       "    .dataframe tbody tr th {\n",
       "        vertical-align: top;\n",
       "    }\n",
       "\n",
       "    .dataframe thead th {\n",
       "        text-align: right;\n",
       "    }\n",
       "</style>\n",
       "<table border=\"1\" class=\"dataframe\">\n",
       "  <thead>\n",
       "    <tr style=\"text-align: right;\">\n",
       "      <th></th>\n",
       "      <th>x</th>\n",
       "      <th>y</th>\n",
       "      <th>ppscore</th>\n",
       "      <th>case</th>\n",
       "      <th>is_valid_score</th>\n",
       "      <th>metric</th>\n",
       "      <th>baseline_score</th>\n",
       "      <th>model_score</th>\n",
       "      <th>model</th>\n",
       "    </tr>\n",
       "  </thead>\n",
       "  <tbody>\n",
       "    <tr>\n",
       "      <th>0</th>\n",
       "      <td>x</td>\n",
       "      <td>x</td>\n",
       "      <td>1.000000</td>\n",
       "      <td>predict_itself</td>\n",
       "      <td>True</td>\n",
       "      <td>None</td>\n",
       "      <td>0.000000</td>\n",
       "      <td>1.000000</td>\n",
       "      <td>None</td>\n",
       "    </tr>\n",
       "    <tr>\n",
       "      <th>1</th>\n",
       "      <td>x</td>\n",
       "      <td>error</td>\n",
       "      <td>0.000000</td>\n",
       "      <td>regression</td>\n",
       "      <td>True</td>\n",
       "      <td>mean absolute error</td>\n",
       "      <td>0.246081</td>\n",
       "      <td>0.330635</td>\n",
       "      <td>DecisionTreeRegressor()</td>\n",
       "    </tr>\n",
       "    <tr>\n",
       "      <th>2</th>\n",
       "      <td>x</td>\n",
       "      <td>y</td>\n",
       "      <td>0.676698</td>\n",
       "      <td>regression</td>\n",
       "      <td>True</td>\n",
       "      <td>mean absolute error</td>\n",
       "      <td>1.022864</td>\n",
       "      <td>0.330694</td>\n",
       "      <td>DecisionTreeRegressor()</td>\n",
       "    </tr>\n",
       "    <tr>\n",
       "      <th>3</th>\n",
       "      <td>error</td>\n",
       "      <td>x</td>\n",
       "      <td>0.000000</td>\n",
       "      <td>regression</td>\n",
       "      <td>True</td>\n",
       "      <td>mean absolute error</td>\n",
       "      <td>1.007427</td>\n",
       "      <td>1.379843</td>\n",
       "      <td>DecisionTreeRegressor()</td>\n",
       "    </tr>\n",
       "    <tr>\n",
       "      <th>4</th>\n",
       "      <td>error</td>\n",
       "      <td>error</td>\n",
       "      <td>1.000000</td>\n",
       "      <td>predict_itself</td>\n",
       "      <td>True</td>\n",
       "      <td>None</td>\n",
       "      <td>0.000000</td>\n",
       "      <td>1.000000</td>\n",
       "      <td>None</td>\n",
       "    </tr>\n",
       "    <tr>\n",
       "      <th>5</th>\n",
       "      <td>error</td>\n",
       "      <td>y</td>\n",
       "      <td>0.000000</td>\n",
       "      <td>regression</td>\n",
       "      <td>True</td>\n",
       "      <td>mean absolute error</td>\n",
       "      <td>1.022864</td>\n",
       "      <td>1.350357</td>\n",
       "      <td>DecisionTreeRegressor()</td>\n",
       "    </tr>\n",
       "    <tr>\n",
       "      <th>6</th>\n",
       "      <td>y</td>\n",
       "      <td>x</td>\n",
       "      <td>0.000000</td>\n",
       "      <td>regression</td>\n",
       "      <td>True</td>\n",
       "      <td>mean absolute error</td>\n",
       "      <td>1.007427</td>\n",
       "      <td>1.078896</td>\n",
       "      <td>DecisionTreeRegressor()</td>\n",
       "    </tr>\n",
       "    <tr>\n",
       "      <th>7</th>\n",
       "      <td>y</td>\n",
       "      <td>error</td>\n",
       "      <td>0.000000</td>\n",
       "      <td>regression</td>\n",
       "      <td>True</td>\n",
       "      <td>mean absolute error</td>\n",
       "      <td>0.246081</td>\n",
       "      <td>0.281822</td>\n",
       "      <td>DecisionTreeRegressor()</td>\n",
       "    </tr>\n",
       "    <tr>\n",
       "      <th>8</th>\n",
       "      <td>y</td>\n",
       "      <td>y</td>\n",
       "      <td>1.000000</td>\n",
       "      <td>predict_itself</td>\n",
       "      <td>True</td>\n",
       "      <td>None</td>\n",
       "      <td>0.000000</td>\n",
       "      <td>1.000000</td>\n",
       "      <td>None</td>\n",
       "    </tr>\n",
       "  </tbody>\n",
       "</table>\n",
       "</div>"
      ],
      "text/plain": [
       "       x      y   ppscore            case  is_valid_score  \\\n",
       "0      x      x  1.000000  predict_itself            True   \n",
       "1      x  error  0.000000      regression            True   \n",
       "2      x      y  0.676698      regression            True   \n",
       "3  error      x  0.000000      regression            True   \n",
       "4  error  error  1.000000  predict_itself            True   \n",
       "5  error      y  0.000000      regression            True   \n",
       "6      y      x  0.000000      regression            True   \n",
       "7      y  error  0.000000      regression            True   \n",
       "8      y      y  1.000000  predict_itself            True   \n",
       "\n",
       "                metric  baseline_score  model_score                    model  \n",
       "0                 None        0.000000     1.000000                     None  \n",
       "1  mean absolute error        0.246081     0.330635  DecisionTreeRegressor()  \n",
       "2  mean absolute error        1.022864     0.330694  DecisionTreeRegressor()  \n",
       "3  mean absolute error        1.007427     1.379843  DecisionTreeRegressor()  \n",
       "4                 None        0.000000     1.000000                     None  \n",
       "5  mean absolute error        1.022864     1.350357  DecisionTreeRegressor()  \n",
       "6  mean absolute error        1.007427     1.078896  DecisionTreeRegressor()  \n",
       "7  mean absolute error        0.246081     0.281822  DecisionTreeRegressor()  \n",
       "8                 None        0.000000     1.000000                     None  "
      ]
     },
     "execution_count": 5,
     "metadata": {},
     "output_type": "execute_result"
    }
   ],
   "source": [
    "pps.matrix(df)"
   ]
  },
  {
   "cell_type": "code",
   "execution_count": 6,
   "id": "e21e494e-fe23-49c3-bfb1-55730856f680",
   "metadata": {},
   "outputs": [],
   "source": [
    "import seaborn as sns"
   ]
  },
  {
   "cell_type": "code",
   "execution_count": 7,
   "id": "7ec22a2e-016b-4b7d-824b-867e7435ff09",
   "metadata": {},
   "outputs": [
    {
     "data": {
      "text/plain": [
       "<matplotlib.axes._subplots.AxesSubplot at 0x7fe278e24520>"
      ]
     },
     "execution_count": 7,
     "metadata": {},
     "output_type": "execute_result"
    },
    {
     "data": {
      "image/png": "[encoded data removed]",
      "text/plain": [
       "<Figure size 432x288 with 1 Axes>"
      ]
     },
     "metadata": {
      "needs_background": "light"
     },
     "output_type": "display_data"
    }
   ],
   "source": [
    "predictors_df = pps.predictors(df, y=\"y\")\n",
    "sns.barplot(data=predictors_df, x=\"x\", y=\"ppscore\")"
   ]
  },
  {
   "cell_type": "code",
   "execution_count": 8,
   "id": "799f5f28-5996-4c1e-a22b-d547f84cc4c0",
   "metadata": {},
   "outputs": [
    {
     "data": {
      "text/plain": [
       "<matplotlib.axes._subplots.AxesSubplot at 0x7fe278f0ff70>"
      ]
     },
     "execution_count": 8,
     "metadata": {},
     "output_type": "execute_result"
    },
    {
     "data": {
      "image/png": "[encoded data removed]",
      "text/plain": [
       "<Figure size 432x288 with 2 Axes>"
      ]
     },
     "metadata": {
      "needs_background": "light"
     },
     "output_type": "display_data"
    }
   ],
   "source": [
    "matrix_df = pps.matrix(df)[['x', 'y', 'ppscore']].pivot(columns='x', index='y', values='ppscore')\n",
    "sns.heatmap(matrix_df, vmin=0, vmax=1, cmap=\"Blues\", linewidths=0.5, annot=True)"
   ]
  },
  {
   "cell_type": "code",
   "execution_count": null,
   "id": "8f102c0b-dcbd-423a-be86-4ed9958c428c",
   "metadata": {},
   "outputs": [],
   "source": []
  }
 ],
 "metadata": {
  "kernelspec": {
   "display_name": "Python 3",
   "language": "python",
   "name": "python3"
  },
  "language_info": {
   "codemirror_mode": {
    "name": "ipython",
    "version": 3
   },
   "file_extension": ".py",
   "mimetype": "text/x-python",
   "name": "python",
   "nbconvert_exporter": "python",
   "pygments_lexer": "ipython3",
   "version": "3.9.2"
  }
 },
 "nbformat": 4,
 "nbformat_minor": 5
}
